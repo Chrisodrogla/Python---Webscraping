{
 "cells": [
  {
   "cell_type": "code",
   "execution_count": 1,
   "id": "01385e36",
   "metadata": {},
   "outputs": [],
   "source": [
    "from bs4 import BeautifulSoup\n",
    "import requests\n",
    "import pandas as pd"
   ]
  },
  {
   "cell_type": "code",
   "execution_count": 2,
   "id": "0f9ed86c",
   "metadata": {},
   "outputs": [],
   "source": [
    "website = 'https://www.imdb.com/list/ls072723659/'"
   ]
  },
  {
   "cell_type": "code",
   "execution_count": 3,
   "id": "352ef4d3",
   "metadata": {},
   "outputs": [],
   "source": [
    "response = requests.get(website)"
   ]
  },
  {
   "cell_type": "code",
   "execution_count": 4,
   "id": "d288a909",
   "metadata": {},
   "outputs": [
    {
     "data": {
      "text/plain": [
       "200"
      ]
     },
     "execution_count": 4,
     "metadata": {},
     "output_type": "execute_result"
    }
   ],
   "source": [
    "response.status_code"
   ]
  },
  {
   "cell_type": "code",
   "execution_count": 5,
   "id": "2eb1eeb5",
   "metadata": {},
   "outputs": [],
   "source": [
    "soup = BeautifulSoup(response.content,'html.parser')"
   ]
  },
  {
   "cell_type": "code",
   "execution_count": 6,
   "id": "8bfad19e",
   "metadata": {},
   "outputs": [],
   "source": [
    "results = soup.find_all('div',{'class':'lister-item-content'})"
   ]
  },
  {
   "cell_type": "code",
   "execution_count": 7,
   "id": "e7266053",
   "metadata": {},
   "outputs": [
    {
     "data": {
      "text/plain": [
       "26"
      ]
     },
     "execution_count": 7,
     "metadata": {},
     "output_type": "execute_result"
    }
   ],
   "source": [
    "len(results)"
   ]
  },
  {
   "cell_type": "code",
   "execution_count": 8,
   "id": "4b738b31",
   "metadata": {},
   "outputs": [
    {
     "data": {
      "text/plain": [
       "'A Quiet Place'"
      ]
     },
     "execution_count": 8,
     "metadata": {},
     "output_type": "execute_result"
    }
   ],
   "source": [
    "results[0].a.text # movie name"
   ]
  },
  {
   "cell_type": "code",
   "execution_count": 9,
   "id": "e5c07adf",
   "metadata": {},
   "outputs": [
    {
     "data": {
      "text/plain": [
       "'2018'"
      ]
     },
     "execution_count": 9,
     "metadata": {},
     "output_type": "execute_result"
    }
   ],
   "source": [
    "results[0].find('span',{'class':'lister-item-year text-muted unbold'}).text.strip('()') # year release"
   ]
  },
  {
   "cell_type": "code",
   "execution_count": 10,
   "id": "b5408caf",
   "metadata": {},
   "outputs": [
    {
     "data": {
      "text/plain": [
       "'R-13'"
      ]
     },
     "execution_count": 10,
     "metadata": {},
     "output_type": "execute_result"
    }
   ],
   "source": [
    "results[0].find('span',{'class':'certificate'}).text # Movie Rate"
   ]
  },
  {
   "cell_type": "code",
   "execution_count": 11,
   "id": "d4aec525",
   "metadata": {},
   "outputs": [
    {
     "data": {
      "text/plain": [
       "'90 '"
      ]
     },
     "execution_count": 11,
     "metadata": {},
     "output_type": "execute_result"
    }
   ],
   "source": [
    "results[0].find('span',{'class':'runtime'}).text.strip('min') # Runtime in Minutes"
   ]
  },
  {
   "cell_type": "code",
   "execution_count": 12,
   "id": "47b5d6f2",
   "metadata": {},
   "outputs": [
    {
     "data": {
      "text/plain": [
       "'Drama, Horror, Sci-Fi            '"
      ]
     },
     "execution_count": 12,
     "metadata": {},
     "output_type": "execute_result"
    }
   ],
   "source": [
    "results[0].find('span',{'class':'genre'}).text.strip('(\\n)') # Genres"
   ]
  },
  {
   "cell_type": "code",
   "execution_count": 13,
   "id": "055b59f5",
   "metadata": {},
   "outputs": [
    {
     "data": {
      "text/plain": [
       "'7.5'"
      ]
     },
     "execution_count": 13,
     "metadata": {},
     "output_type": "execute_result"
    }
   ],
   "source": [
    "results[0].find('span',{'class':'ipl-rating-star__rating'}).text # star Rating"
   ]
  },
  {
   "cell_type": "code",
   "execution_count": 14,
   "id": "9f70e0b8",
   "metadata": {},
   "outputs": [
    {
     "data": {
      "text/plain": [
       "'82        '"
      ]
     },
     "execution_count": 14,
     "metadata": {},
     "output_type": "execute_result"
    }
   ],
   "source": [
    "results[0].find('div',{'class':'inline-block ratings-metascore'}).span.text # Metascore"
   ]
  },
  {
   "cell_type": "code",
   "execution_count": 15,
   "id": "31426c1a",
   "metadata": {},
   "outputs": [
    {
     "data": {
      "text/plain": [
       "'539,168'"
      ]
     },
     "execution_count": 15,
     "metadata": {},
     "output_type": "execute_result"
    }
   ],
   "source": [
    "results[0].find('span',{'name':'nv'}).text # Votes"
   ]
  },
  {
   "cell_type": "code",
   "execution_count": null,
   "id": "bca3e00e",
   "metadata": {},
   "outputs": [],
   "source": []
  },
  {
   "cell_type": "code",
   "execution_count": 16,
   "id": "e0e587c7",
   "metadata": {},
   "outputs": [],
   "source": [
    "jjs = soup.find_all('span',{'name':'nv'})"
   ]
  },
  {
   "cell_type": "code",
   "execution_count": 17,
   "id": "b222c952",
   "metadata": {},
   "outputs": [
    {
     "data": {
      "text/plain": [
       "'$188.02M'"
      ]
     },
     "execution_count": 17,
     "metadata": {},
     "output_type": "execute_result"
    }
   ],
   "source": [
    "jjs[1].text# Gross"
   ]
  },
  {
   "cell_type": "code",
   "execution_count": 18,
   "id": "1ca094d8",
   "metadata": {},
   "outputs": [],
   "source": [
    "Movie_Name = []\n",
    "Year_Release = []\n",
    "Rated = []\n",
    "Genre = []\n",
    "Run_Time_Minutes = []\n",
    "Star_Rate_Ten = []\n",
    "Meta_Score = []\n",
    "Web_Votes = []\n",
    "\n",
    "for result in results:\n",
    "  \n",
    "    Movie_Name.append(result.a.text)\n",
    "    \n",
    "    Year_Release.append(result.find('span',{'class':'lister-item-year text-muted unbold'}).text.strip('()'))\n",
    "    \n",
    "\n",
    "    Rated.append(result.find('p',{'class':'text-muted text-small'}).span.text)\n",
    "\n",
    "    \n",
    "    Run_Time_Minutes.append(result.find('span',{'class':'runtime'}).text.strip('min'))\n",
    "    try:\n",
    "        Genre.append(result.find('span',{'class':'genre'}).text.strip('(\\n)'))\n",
    "    except:\n",
    "        Genre.append('n/a')\n",
    "    Star_Rate_Ten.append(result.find('span',{'class':'ipl-rating-star__rating'}).text)\n",
    "    \n",
    "    Meta_Score.append(result.find('div',{'class':'inline-block ratings-metascore'}).span.text)\n",
    "    \n",
    "    Web_Votes.append(result.find('span',{'name':'nv'}).text)\n",
    "    \n",
    "    "
   ]
  },
  {
   "cell_type": "code",
   "execution_count": 19,
   "id": "12b4574c",
   "metadata": {},
   "outputs": [],
   "source": [
    "Gross_In_Million = []\n",
    "\n",
    "for jj in jjs:\n",
    "    Gross_In_Million.append(jj.text)"
   ]
  },
  {
   "cell_type": "code",
   "execution_count": 22,
   "id": "684b3c55",
   "metadata": {},
   "outputs": [],
   "source": [
    "Scraping_Horror_Movie12 = pd.DataFrame({'Movie_Name':Movie_Name,\n",
    "                                       'Year_Release':Year_Release,\n",
    "                                       'Rated':Rated,\n",
    "                                       'Genre':Genre,\n",
    "                                       'Run_Time_Minutes':Run_Time_Minutes,\n",
    "                                       'Star_Rate_Ten':Star_Rate_Ten,\n",
    "                                       'Meta_Score':Meta_Score,\n",
    "                                       'Web_Votes':Web_Votes,\n",
    "                                    })"
   ]
  },
  {
   "cell_type": "code",
   "execution_count": 24,
   "id": "17103d2d",
   "metadata": {},
   "outputs": [
    {
     "data": {
      "text/html": [
       "<div>\n",
       "<style scoped>\n",
       "    .dataframe tbody tr th:only-of-type {\n",
       "        vertical-align: middle;\n",
       "    }\n",
       "\n",
       "    .dataframe tbody tr th {\n",
       "        vertical-align: top;\n",
       "    }\n",
       "\n",
       "    .dataframe thead th {\n",
       "        text-align: right;\n",
       "    }\n",
       "</style>\n",
       "<table border=\"1\" class=\"dataframe\">\n",
       "  <thead>\n",
       "    <tr style=\"text-align: right;\">\n",
       "      <th></th>\n",
       "      <th>Movie_Name</th>\n",
       "      <th>Year_Release</th>\n",
       "      <th>Rated</th>\n",
       "      <th>Genre</th>\n",
       "      <th>Run_Time_Minutes</th>\n",
       "      <th>Star_Rate_Ten</th>\n",
       "      <th>Meta_Score</th>\n",
       "      <th>Web_Votes</th>\n",
       "    </tr>\n",
       "  </thead>\n",
       "  <tbody>\n",
       "    <tr>\n",
       "      <th>0</th>\n",
       "      <td>A Quiet Place</td>\n",
       "      <td>2018</td>\n",
       "      <td>R-13</td>\n",
       "      <td>Drama, Horror, Sci-Fi</td>\n",
       "      <td>90</td>\n",
       "      <td>7.5</td>\n",
       "      <td>82</td>\n",
       "      <td>539,168</td>\n",
       "    </tr>\n",
       "    <tr>\n",
       "      <th>1</th>\n",
       "      <td>Get Out</td>\n",
       "      <td>I) (2017</td>\n",
       "      <td>R-13</td>\n",
       "      <td>Horror, Mystery, Thriller</td>\n",
       "      <td>104</td>\n",
       "      <td>7.7</td>\n",
       "      <td>85</td>\n",
       "      <td>624,888</td>\n",
       "    </tr>\n",
       "    <tr>\n",
       "      <th>2</th>\n",
       "      <td>Alien</td>\n",
       "      <td>1979</td>\n",
       "      <td>R-18</td>\n",
       "      <td>Horror, Sci-Fi</td>\n",
       "      <td>117</td>\n",
       "      <td>8.5</td>\n",
       "      <td>89</td>\n",
       "      <td>890,682</td>\n",
       "    </tr>\n",
       "    <tr>\n",
       "      <th>3</th>\n",
       "      <td>World War Z</td>\n",
       "      <td>2013</td>\n",
       "      <td>PG-13</td>\n",
       "      <td>Action, Adventure, Horror</td>\n",
       "      <td>116</td>\n",
       "      <td>7</td>\n",
       "      <td>63</td>\n",
       "      <td>676,703</td>\n",
       "    </tr>\n",
       "    <tr>\n",
       "      <th>4</th>\n",
       "      <td>The Thing</td>\n",
       "      <td>1982</td>\n",
       "      <td>R-18</td>\n",
       "      <td>Horror, Mystery, Sci-Fi</td>\n",
       "      <td>109</td>\n",
       "      <td>8.2</td>\n",
       "      <td>57</td>\n",
       "      <td>431,188</td>\n",
       "    </tr>\n",
       "    <tr>\n",
       "      <th>5</th>\n",
       "      <td>The Birds</td>\n",
       "      <td>1963</td>\n",
       "      <td>PG-13</td>\n",
       "      <td>Drama, Horror, Mystery</td>\n",
       "      <td>119</td>\n",
       "      <td>7.6</td>\n",
       "      <td>90</td>\n",
       "      <td>192,714</td>\n",
       "    </tr>\n",
       "    <tr>\n",
       "      <th>6</th>\n",
       "      <td>Interview with the Vampire: The Vampire Chroni...</td>\n",
       "      <td>1994</td>\n",
       "      <td>R-18</td>\n",
       "      <td>Drama, Fantasy, Horror</td>\n",
       "      <td>123</td>\n",
       "      <td>7.5</td>\n",
       "      <td>59</td>\n",
       "      <td>328,971</td>\n",
       "    </tr>\n",
       "    <tr>\n",
       "      <th>7</th>\n",
       "      <td>What We Do in the Shadows</td>\n",
       "      <td>2014</td>\n",
       "      <td>R</td>\n",
       "      <td>Comedy, Horror</td>\n",
       "      <td>86</td>\n",
       "      <td>7.6</td>\n",
       "      <td>76</td>\n",
       "      <td>187,574</td>\n",
       "    </tr>\n",
       "    <tr>\n",
       "      <th>8</th>\n",
       "      <td>A Nightmare on Elm Street</td>\n",
       "      <td>1984</td>\n",
       "      <td>R-18</td>\n",
       "      <td>Horror</td>\n",
       "      <td>91</td>\n",
       "      <td>7.4</td>\n",
       "      <td>76</td>\n",
       "      <td>244,604</td>\n",
       "    </tr>\n",
       "    <tr>\n",
       "      <th>9</th>\n",
       "      <td>Invasion of the Body Snatchers</td>\n",
       "      <td>1978</td>\n",
       "      <td>115 min</td>\n",
       "      <td>Horror, Sci-Fi</td>\n",
       "      <td>115</td>\n",
       "      <td>7.4</td>\n",
       "      <td>75</td>\n",
       "      <td>62,741</td>\n",
       "    </tr>\n",
       "    <tr>\n",
       "      <th>10</th>\n",
       "      <td>10 Cloverfield Lane</td>\n",
       "      <td>2016</td>\n",
       "      <td>R-13</td>\n",
       "      <td>Drama, Horror, Mystery</td>\n",
       "      <td>103</td>\n",
       "      <td>7.2</td>\n",
       "      <td>76</td>\n",
       "      <td>334,481</td>\n",
       "    </tr>\n",
       "    <tr>\n",
       "      <th>11</th>\n",
       "      <td>Pitch Black</td>\n",
       "      <td>2000</td>\n",
       "      <td>PG-13</td>\n",
       "      <td>Action, Horror, Sci-Fi</td>\n",
       "      <td>109</td>\n",
       "      <td>7.1</td>\n",
       "      <td>49</td>\n",
       "      <td>243,351</td>\n",
       "    </tr>\n",
       "    <tr>\n",
       "      <th>12</th>\n",
       "      <td>Blade</td>\n",
       "      <td>1998</td>\n",
       "      <td>R-18</td>\n",
       "      <td>Action, Horror, Sci-Fi</td>\n",
       "      <td>120</td>\n",
       "      <td>7.1</td>\n",
       "      <td>47</td>\n",
       "      <td>279,921</td>\n",
       "    </tr>\n",
       "    <tr>\n",
       "      <th>13</th>\n",
       "      <td>A Girl Walks Home Alone at Night</td>\n",
       "      <td>2014</td>\n",
       "      <td>R-16</td>\n",
       "      <td>Drama, Horror, Romance</td>\n",
       "      <td>101</td>\n",
       "      <td>6.9</td>\n",
       "      <td>81</td>\n",
       "      <td>36,475</td>\n",
       "    </tr>\n",
       "    <tr>\n",
       "      <th>14</th>\n",
       "      <td>Odd Thomas</td>\n",
       "      <td>2013</td>\n",
       "      <td>R-13</td>\n",
       "      <td>Comedy, Fantasy, Horror</td>\n",
       "      <td>100</td>\n",
       "      <td>6.8</td>\n",
       "      <td>45</td>\n",
       "      <td>54,498</td>\n",
       "    </tr>\n",
       "    <tr>\n",
       "      <th>15</th>\n",
       "      <td>It Follows</td>\n",
       "      <td>2014</td>\n",
       "      <td>R-16</td>\n",
       "      <td>Horror, Mystery, Thriller</td>\n",
       "      <td>100</td>\n",
       "      <td>6.8</td>\n",
       "      <td>83</td>\n",
       "      <td>248,228</td>\n",
       "    </tr>\n",
       "    <tr>\n",
       "      <th>16</th>\n",
       "      <td>The Babadook</td>\n",
       "      <td>2014</td>\n",
       "      <td>R-13</td>\n",
       "      <td>Horror, Mystery</td>\n",
       "      <td>94</td>\n",
       "      <td>6.8</td>\n",
       "      <td>86</td>\n",
       "      <td>229,749</td>\n",
       "    </tr>\n",
       "    <tr>\n",
       "      <th>17</th>\n",
       "      <td>Hush</td>\n",
       "      <td>I) (2016</td>\n",
       "      <td>18+</td>\n",
       "      <td>Horror, Thriller</td>\n",
       "      <td>82</td>\n",
       "      <td>6.6</td>\n",
       "      <td>67</td>\n",
       "      <td>140,217</td>\n",
       "    </tr>\n",
       "    <tr>\n",
       "      <th>18</th>\n",
       "      <td>Final Destination</td>\n",
       "      <td>2000</td>\n",
       "      <td>PG-13</td>\n",
       "      <td>Horror, Thriller</td>\n",
       "      <td>98</td>\n",
       "      <td>6.7</td>\n",
       "      <td>36</td>\n",
       "      <td>260,912</td>\n",
       "    </tr>\n",
       "    <tr>\n",
       "      <th>19</th>\n",
       "      <td>Spring</td>\n",
       "      <td>I) (2014</td>\n",
       "      <td>109 min</td>\n",
       "      <td>Horror, Romance, Sci-Fi</td>\n",
       "      <td>109</td>\n",
       "      <td>6.7</td>\n",
       "      <td>70</td>\n",
       "      <td>29,325</td>\n",
       "    </tr>\n",
       "    <tr>\n",
       "      <th>20</th>\n",
       "      <td>The Blair Witch Project</td>\n",
       "      <td>1999</td>\n",
       "      <td>PG-13</td>\n",
       "      <td>Horror, Mystery</td>\n",
       "      <td>81</td>\n",
       "      <td>6.5</td>\n",
       "      <td>81</td>\n",
       "      <td>266,759</td>\n",
       "    </tr>\n",
       "    <tr>\n",
       "      <th>21</th>\n",
       "      <td>Alien³</td>\n",
       "      <td>1992</td>\n",
       "      <td>R</td>\n",
       "      <td>Action, Horror, Sci-Fi</td>\n",
       "      <td>114</td>\n",
       "      <td>6.4</td>\n",
       "      <td>59</td>\n",
       "      <td>304,370</td>\n",
       "    </tr>\n",
       "    <tr>\n",
       "      <th>22</th>\n",
       "      <td>The Cell</td>\n",
       "      <td>2000</td>\n",
       "      <td>PG-13</td>\n",
       "      <td>Crime, Horror, Sci-Fi</td>\n",
       "      <td>107</td>\n",
       "      <td>6.4</td>\n",
       "      <td>40</td>\n",
       "      <td>104,476</td>\n",
       "    </tr>\n",
       "    <tr>\n",
       "      <th>23</th>\n",
       "      <td>Split</td>\n",
       "      <td>IX) (2016</td>\n",
       "      <td>R-13</td>\n",
       "      <td>Horror, Thriller</td>\n",
       "      <td>117</td>\n",
       "      <td>7.3</td>\n",
       "      <td>62</td>\n",
       "      <td>508,332</td>\n",
       "    </tr>\n",
       "    <tr>\n",
       "      <th>24</th>\n",
       "      <td>Psycho</td>\n",
       "      <td>1960</td>\n",
       "      <td>PG-13</td>\n",
       "      <td>Horror, Mystery, Thriller</td>\n",
       "      <td>109</td>\n",
       "      <td>8.5</td>\n",
       "      <td>97</td>\n",
       "      <td>677,724</td>\n",
       "    </tr>\n",
       "    <tr>\n",
       "      <th>25</th>\n",
       "      <td>A Quiet Place Part II</td>\n",
       "      <td>2020</td>\n",
       "      <td>PG</td>\n",
       "      <td>Drama, Horror, Sci-Fi</td>\n",
       "      <td>97</td>\n",
       "      <td>7.2</td>\n",
       "      <td>71</td>\n",
       "      <td>237,673</td>\n",
       "    </tr>\n",
       "  </tbody>\n",
       "</table>\n",
       "</div>"
      ],
      "text/plain": [
       "                                           Movie_Name Year_Release    Rated  \\\n",
       "0                                       A Quiet Place         2018     R-13   \n",
       "1                                             Get Out     I) (2017     R-13   \n",
       "2                                               Alien         1979     R-18   \n",
       "3                                         World War Z         2013    PG-13   \n",
       "4                                           The Thing         1982     R-18   \n",
       "5                                           The Birds         1963    PG-13   \n",
       "6   Interview with the Vampire: The Vampire Chroni...         1994     R-18   \n",
       "7                           What We Do in the Shadows         2014        R   \n",
       "8                           A Nightmare on Elm Street         1984     R-18   \n",
       "9                      Invasion of the Body Snatchers         1978  115 min   \n",
       "10                                10 Cloverfield Lane         2016     R-13   \n",
       "11                                        Pitch Black         2000    PG-13   \n",
       "12                                              Blade         1998     R-18   \n",
       "13                   A Girl Walks Home Alone at Night         2014     R-16   \n",
       "14                                         Odd Thomas         2013     R-13   \n",
       "15                                         It Follows         2014     R-16   \n",
       "16                                       The Babadook         2014     R-13   \n",
       "17                                               Hush     I) (2016      18+   \n",
       "18                                  Final Destination         2000    PG-13   \n",
       "19                                             Spring     I) (2014  109 min   \n",
       "20                            The Blair Witch Project         1999    PG-13   \n",
       "21                                             Alien³         1992        R   \n",
       "22                                           The Cell         2000    PG-13   \n",
       "23                                              Split    IX) (2016     R-13   \n",
       "24                                             Psycho         1960    PG-13   \n",
       "25                              A Quiet Place Part II         2020       PG   \n",
       "\n",
       "                                    Genre Run_Time_Minutes Star_Rate_Ten  \\\n",
       "0       Drama, Horror, Sci-Fi                          90            7.5   \n",
       "1   Horror, Mystery, Thriller                         104            7.7   \n",
       "2              Horror, Sci-Fi                         117            8.5   \n",
       "3   Action, Adventure, Horror                         116              7   \n",
       "4     Horror, Mystery, Sci-Fi                         109            8.2   \n",
       "5      Drama, Horror, Mystery                         119            7.6   \n",
       "6      Drama, Fantasy, Horror                         123            7.5   \n",
       "7              Comedy, Horror                          86            7.6   \n",
       "8                      Horror                          91            7.4   \n",
       "9              Horror, Sci-Fi                         115            7.4   \n",
       "10     Drama, Horror, Mystery                         103            7.2   \n",
       "11     Action, Horror, Sci-Fi                         109            7.1   \n",
       "12     Action, Horror, Sci-Fi                         120            7.1   \n",
       "13     Drama, Horror, Romance                         101            6.9   \n",
       "14    Comedy, Fantasy, Horror                         100            6.8   \n",
       "15  Horror, Mystery, Thriller                         100            6.8   \n",
       "16            Horror, Mystery                          94            6.8   \n",
       "17           Horror, Thriller                          82            6.6   \n",
       "18           Horror, Thriller                          98            6.7   \n",
       "19    Horror, Romance, Sci-Fi                         109            6.7   \n",
       "20            Horror, Mystery                          81            6.5   \n",
       "21     Action, Horror, Sci-Fi                         114            6.4   \n",
       "22      Crime, Horror, Sci-Fi                         107            6.4   \n",
       "23           Horror, Thriller                         117            7.3   \n",
       "24  Horror, Mystery, Thriller                         109            8.5   \n",
       "25      Drama, Horror, Sci-Fi                          97            7.2   \n",
       "\n",
       "    Meta_Score Web_Votes  \n",
       "0   82           539,168  \n",
       "1   85           624,888  \n",
       "2   89           890,682  \n",
       "3   63           676,703  \n",
       "4   57           431,188  \n",
       "5   90           192,714  \n",
       "6   59           328,971  \n",
       "7   76           187,574  \n",
       "8   76           244,604  \n",
       "9   75            62,741  \n",
       "10  76           334,481  \n",
       "11  49           243,351  \n",
       "12  47           279,921  \n",
       "13  81            36,475  \n",
       "14  45            54,498  \n",
       "15  83           248,228  \n",
       "16  86           229,749  \n",
       "17  67           140,217  \n",
       "18  36           260,912  \n",
       "19  70            29,325  \n",
       "20  81           266,759  \n",
       "21  59           304,370  \n",
       "22  40           104,476  \n",
       "23  62           508,332  \n",
       "24  97           677,724  \n",
       "25  71           237,673  "
      ]
     },
     "execution_count": 24,
     "metadata": {},
     "output_type": "execute_result"
    }
   ],
   "source": [
    "Scraping_Horror_Movie12"
   ]
  },
  {
   "cell_type": "code",
   "execution_count": 23,
   "id": "e3bbee65",
   "metadata": {},
   "outputs": [],
   "source": [
    "Scraping_Horror_Movie12.to_excel('Horror Movies Rated.xlsx',index=False) ## ALWAYS CHANGE results_single_page1"
   ]
  },
  {
   "cell_type": "code",
   "execution_count": null,
   "id": "20d7b9ff",
   "metadata": {},
   "outputs": [],
   "source": []
  },
  {
   "cell_type": "code",
   "execution_count": null,
   "id": "9d1c3946",
   "metadata": {},
   "outputs": [],
   "source": []
  },
  {
   "cell_type": "code",
   "execution_count": null,
   "id": "3921ee03",
   "metadata": {},
   "outputs": [],
   "source": []
  }
 ],
 "metadata": {
  "kernelspec": {
   "display_name": "Python 3 (ipykernel)",
   "language": "python",
   "name": "python3"
  },
  "language_info": {
   "codemirror_mode": {
    "name": "ipython",
    "version": 3
   },
   "file_extension": ".py",
   "mimetype": "text/x-python",
   "name": "python",
   "nbconvert_exporter": "python",
   "pygments_lexer": "ipython3",
   "version": "3.9.13"
  }
 },
 "nbformat": 4,
 "nbformat_minor": 5
}
