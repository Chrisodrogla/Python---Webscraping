{
 "cells": [
  {
   "cell_type": "markdown",
   "id": "e8385358",
   "metadata": {},
   "source": [
    "# Import"
   ]
  },
  {
   "cell_type": "code",
   "execution_count": 2,
   "id": "df745fb2",
   "metadata": {},
   "outputs": [],
   "source": [
    "from bs4 import BeautifulSoup\n",
    "import requests\n",
    "import pandas as pd"
   ]
  },
  {
   "cell_type": "code",
   "execution_count": 3,
   "id": "fa8e035e",
   "metadata": {},
   "outputs": [],
   "source": [
    "website = 'https://www.imdb.com/chart/top/'"
   ]
  },
  {
   "cell_type": "code",
   "execution_count": 4,
   "id": "19fd9a95",
   "metadata": {},
   "outputs": [],
   "source": [
    "response = requests.get(website)"
   ]
  },
  {
   "cell_type": "code",
   "execution_count": 5,
   "id": "f6a7e41b",
   "metadata": {},
   "outputs": [
    {
     "data": {
      "text/plain": [
       "200"
      ]
     },
     "execution_count": 5,
     "metadata": {},
     "output_type": "execute_result"
    }
   ],
   "source": [
    "response.status_code"
   ]
  },
  {
   "cell_type": "code",
   "execution_count": 9,
   "id": "9aa354c4",
   "metadata": {},
   "outputs": [],
   "source": [
    "soup = BeautifulSoup(response.content,'html.parser')\n",
    "\n",
    "##try print(soup)"
   ]
  },
  {
   "cell_type": "code",
   "execution_count": 67,
   "id": "a234b17a",
   "metadata": {},
   "outputs": [],
   "source": [
    "results  = soup.find_all('td',class_=\"titleColumn\")\n"
   ]
  },
  {
   "cell_type": "code",
   "execution_count": 73,
   "id": "10869d2c",
   "metadata": {},
   "outputs": [
    {
     "data": {
      "text/plain": [
       "'The Shawshank Redemption'"
      ]
     },
     "execution_count": 73,
     "metadata": {},
     "output_type": "execute_result"
    }
   ],
   "source": [
    "results[0].a.text ## Name"
   ]
  },
  {
   "cell_type": "code",
   "execution_count": 70,
   "id": "0cee4223",
   "metadata": {},
   "outputs": [
    {
     "data": {
      "text/plain": [
       "'1994'"
      ]
     },
     "execution_count": 70,
     "metadata": {},
     "output_type": "execute_result"
    }
   ],
   "source": [
    "results[0].span.text.strip('()') ## Year"
   ]
  },
  {
   "cell_type": "code",
   "execution_count": 74,
   "id": "9e284d83",
   "metadata": {},
   "outputs": [
    {
     "data": {
      "text/plain": [
       "'1'"
      ]
     },
     "execution_count": 74,
     "metadata": {},
     "output_type": "execute_result"
    }
   ],
   "source": [
    "results[0].get_text(strip=True).split('.')[0] ## Ranking"
   ]
  },
  {
   "cell_type": "code",
   "execution_count": 107,
   "id": "b3027f5c",
   "metadata": {},
   "outputs": [],
   "source": [
    "resultrates = soup.find_all('td',class_=\"ratingColumn imdbRating\")"
   ]
  },
  {
   "cell_type": "code",
   "execution_count": 109,
   "id": "35a6b944",
   "metadata": {},
   "outputs": [
    {
     "data": {
      "text/plain": [
       "'9.2'"
      ]
     },
     "execution_count": 109,
     "metadata": {},
     "output_type": "execute_result"
    }
   ],
   "source": [
    "resultrate[0].strong.text  ## rating"
   ]
  },
  {
   "cell_type": "code",
   "execution_count": 110,
   "id": "2fdfb592",
   "metadata": {},
   "outputs": [],
   "source": [
    "Movie_Name = []\n",
    "Yeear = []\n",
    "Ranking = []\n",
    "\n",
    "for result in results:\n",
    "  \n",
    "    Movie_Name.append(result.a.text)\n",
    "    \n",
    "    Yeear.append(result.span.text.strip('()'))\n",
    "    \n",
    "    Ranking.append(result.get_text(strip=True).split('.')[0])\n",
    "    \n",
    "  \n",
    "\n",
    "\n"
   ]
  },
  {
   "cell_type": "code",
   "execution_count": 114,
   "id": "df6a671f",
   "metadata": {},
   "outputs": [],
   "source": [
    "Rate = []\n",
    "\n",
    "for resultrate in resultrates:\n",
    "    Rate.append(resultrate.strong.text)"
   ]
  },
  {
   "cell_type": "code",
   "execution_count": null,
   "id": "298537cb",
   "metadata": {},
   "outputs": [],
   "source": []
  },
  {
   "cell_type": "code",
   "execution_count": 118,
   "id": "dbecf239",
   "metadata": {},
   "outputs": [],
   "source": [
    "Movie_Overview = pd.DataFrame({'Movie Title':Movie_Name,'Year':Yeear,'Ranking':Ranking,'Rating':Rate})"
   ]
  },
  {
   "cell_type": "code",
   "execution_count": 119,
   "id": "5b516747",
   "metadata": {},
   "outputs": [
    {
     "data": {
      "text/html": [
       "<div>\n",
       "<style scoped>\n",
       "    .dataframe tbody tr th:only-of-type {\n",
       "        vertical-align: middle;\n",
       "    }\n",
       "\n",
       "    .dataframe tbody tr th {\n",
       "        vertical-align: top;\n",
       "    }\n",
       "\n",
       "    .dataframe thead th {\n",
       "        text-align: right;\n",
       "    }\n",
       "</style>\n",
       "<table border=\"1\" class=\"dataframe\">\n",
       "  <thead>\n",
       "    <tr style=\"text-align: right;\">\n",
       "      <th></th>\n",
       "      <th>Movie Title</th>\n",
       "      <th>Year</th>\n",
       "      <th>Ranking</th>\n",
       "      <th>Rating</th>\n",
       "    </tr>\n",
       "  </thead>\n",
       "  <tbody>\n",
       "    <tr>\n",
       "      <th>0</th>\n",
       "      <td>The Shawshank Redemption</td>\n",
       "      <td>1994</td>\n",
       "      <td>1</td>\n",
       "      <td>9.2</td>\n",
       "    </tr>\n",
       "    <tr>\n",
       "      <th>1</th>\n",
       "      <td>The Godfather</td>\n",
       "      <td>1972</td>\n",
       "      <td>2</td>\n",
       "      <td>9.2</td>\n",
       "    </tr>\n",
       "    <tr>\n",
       "      <th>2</th>\n",
       "      <td>The Dark Knight</td>\n",
       "      <td>2008</td>\n",
       "      <td>3</td>\n",
       "      <td>9.0</td>\n",
       "    </tr>\n",
       "    <tr>\n",
       "      <th>3</th>\n",
       "      <td>The Godfather Part II</td>\n",
       "      <td>1974</td>\n",
       "      <td>4</td>\n",
       "      <td>9.0</td>\n",
       "    </tr>\n",
       "    <tr>\n",
       "      <th>4</th>\n",
       "      <td>12 Angry Men</td>\n",
       "      <td>1957</td>\n",
       "      <td>5</td>\n",
       "      <td>9.0</td>\n",
       "    </tr>\n",
       "    <tr>\n",
       "      <th>...</th>\n",
       "      <td>...</td>\n",
       "      <td>...</td>\n",
       "      <td>...</td>\n",
       "      <td>...</td>\n",
       "    </tr>\n",
       "    <tr>\n",
       "      <th>245</th>\n",
       "      <td>Dersu Uzala</td>\n",
       "      <td>1975</td>\n",
       "      <td>246</td>\n",
       "      <td>8.0</td>\n",
       "    </tr>\n",
       "    <tr>\n",
       "      <th>246</th>\n",
       "      <td>The Help</td>\n",
       "      <td>2011</td>\n",
       "      <td>247</td>\n",
       "      <td>8.0</td>\n",
       "    </tr>\n",
       "    <tr>\n",
       "      <th>247</th>\n",
       "      <td>Aladdin</td>\n",
       "      <td>1992</td>\n",
       "      <td>248</td>\n",
       "      <td>8.0</td>\n",
       "    </tr>\n",
       "    <tr>\n",
       "      <th>248</th>\n",
       "      <td>Gandhi</td>\n",
       "      <td>1982</td>\n",
       "      <td>249</td>\n",
       "      <td>8.0</td>\n",
       "    </tr>\n",
       "    <tr>\n",
       "      <th>249</th>\n",
       "      <td>Dances with Wolves</td>\n",
       "      <td>1990</td>\n",
       "      <td>250</td>\n",
       "      <td>8.0</td>\n",
       "    </tr>\n",
       "  </tbody>\n",
       "</table>\n",
       "<p>250 rows × 4 columns</p>\n",
       "</div>"
      ],
      "text/plain": [
       "                  Movie Title  Year Ranking Rating\n",
       "0    The Shawshank Redemption  1994       1    9.2\n",
       "1               The Godfather  1972       2    9.2\n",
       "2             The Dark Knight  2008       3    9.0\n",
       "3       The Godfather Part II  1974       4    9.0\n",
       "4                12 Angry Men  1957       5    9.0\n",
       "..                        ...   ...     ...    ...\n",
       "245               Dersu Uzala  1975     246    8.0\n",
       "246                  The Help  2011     247    8.0\n",
       "247                   Aladdin  1992     248    8.0\n",
       "248                    Gandhi  1982     249    8.0\n",
       "249        Dances with Wolves  1990     250    8.0\n",
       "\n",
       "[250 rows x 4 columns]"
      ]
     },
     "execution_count": 119,
     "metadata": {},
     "output_type": "execute_result"
    }
   ],
   "source": [
    "Movie_Overview"
   ]
  },
  {
   "cell_type": "code",
   "execution_count": 120,
   "id": "4677ed27",
   "metadata": {},
   "outputs": [],
   "source": [
    "Movie_Overview.to_excel('results_single_page.xlsx',index=False)"
   ]
  },
  {
   "cell_type": "code",
   "execution_count": null,
   "id": "dd3a0345",
   "metadata": {},
   "outputs": [],
   "source": []
  }
 ],
 "metadata": {
  "kernelspec": {
   "display_name": "Python 3 (ipykernel)",
   "language": "python",
   "name": "python3"
  },
  "language_info": {
   "codemirror_mode": {
    "name": "ipython",
    "version": 3
   },
   "file_extension": ".py",
   "mimetype": "text/x-python",
   "name": "python",
   "nbconvert_exporter": "python",
   "pygments_lexer": "ipython3",
   "version": "3.9.13"
  }
 },
 "nbformat": 4,
 "nbformat_minor": 5
}
