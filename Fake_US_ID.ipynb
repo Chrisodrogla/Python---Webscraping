{
 "cells": [
  {
   "cell_type": "code",
   "execution_count": 1,
   "id": "123ed2d8",
   "metadata": {},
   "outputs": [],
   "source": [
    "import socks\n",
    "import socket\n",
    "import requests\n",
    "from bs4 import BeautifulSoup\n",
    "import pandas as pd"
   ]
  },
  {
   "cell_type": "code",
   "execution_count": 2,
   "id": "411938ed",
   "metadata": {},
   "outputs": [],
   "source": [
    "from urllib.request import urlopen\n",
    "socks.set_default_proxy(socks.SOCKS5,\"localhost\", 9150)\n",
    "socket.socket = socks.socksocket"
   ]
  },
  {
   "cell_type": "code",
   "execution_count": 3,
   "id": "84ee9cc4",
   "metadata": {},
   "outputs": [],
   "source": [
    "def getaddrinfo(*args):\n",
    "    return [(socket.AF_INET,socket.SOCK_STREAM,6,'',(args[0], args[1]))]\n",
    "socket.getaddrinfo = getaddrinfo"
   ]
  },
  {
   "cell_type": "code",
   "execution_count": 4,
   "id": "65595530",
   "metadata": {},
   "outputs": [],
   "source": [
    "res = requests.get(\"http://lqcjo7esbfog5t4r4gyy7jurpzf6cavpfmc4vkal4k2g4ie66ao5mryd.onion/\") # US FAKE ID'S"
   ]
  },
  {
   "cell_type": "code",
   "execution_count": 5,
   "id": "4cfcba98",
   "metadata": {},
   "outputs": [],
   "source": [
    "soup = BeautifulSoup (res.content, 'html.parser')"
   ]
  },
  {
   "cell_type": "code",
   "execution_count": 6,
   "id": "34d2371b",
   "metadata": {},
   "outputs": [],
   "source": [
    "results = soup.find_all('tr')"
   ]
  },
  {
   "cell_type": "code",
   "execution_count": 7,
   "id": "217e5d60",
   "metadata": {},
   "outputs": [
    {
     "data": {
      "text/plain": [
       "17"
      ]
     },
     "execution_count": 7,
     "metadata": {},
     "output_type": "execute_result"
    }
   ],
   "source": [
    "len(results)"
   ]
  },
  {
   "cell_type": "code",
   "execution_count": 8,
   "id": "805ca01d",
   "metadata": {},
   "outputs": [
    {
     "data": {
      "text/plain": [
       "'Delaware'"
      ]
     },
     "execution_count": 8,
     "metadata": {},
     "output_type": "execute_result"
    }
   ],
   "source": [
    "results[1].td.text # NAME OFLOCATION"
   ]
  },
  {
   "cell_type": "code",
   "execution_count": 9,
   "id": "9ac81573",
   "metadata": {},
   "outputs": [
    {
     "data": {
      "text/plain": [
       "'200 USD '"
      ]
     },
     "execution_count": 9,
     "metadata": {},
     "output_type": "execute_result"
    }
   ],
   "source": [
    "results[1].find(\"td\").find_next_sibling(\"td\").get_text(strip=True).split('=')[0] # PRICE INTO USD"
   ]
  },
  {
   "cell_type": "code",
   "execution_count": 10,
   "id": "ac960d26",
   "metadata": {},
   "outputs": [
    {
     "data": {
      "text/plain": [
       "' 0.00865 ฿'"
      ]
     },
     "execution_count": 10,
     "metadata": {},
     "output_type": "execute_result"
    }
   ],
   "source": [
    "results[1].find(\"td\").find_next_sibling(\"td\").get_text(strip=True).split('=')[1] # PRICE IN BITCOIN"
   ]
  },
  {
   "cell_type": "code",
   "execution_count": 11,
   "id": "b1b7cd10",
   "metadata": {},
   "outputs": [],
   "source": [
    "Location_Name = []\n",
    "Price_USD = []\n",
    "Price_Bitcoin = []\n",
    "\n",
    "for result in results:\n",
    "    \n",
    "    try:\n",
    "        Location_Name.append(result.td.text)\n",
    "  \n",
    "    \n",
    "    except:\n",
    "         Location_Name.append('n/a')    \n",
    "            \n",
    "    try:\n",
    "        Price_USD.append(result.find(\"td\").find_next_sibling(\"td\").get_text(strip=True).split('=')[0])\n",
    "  \n",
    "    \n",
    "    except:\n",
    "         Price_USD.append('n/a')\n",
    "\n",
    "    \n",
    "    try:\n",
    "        Price_Bitcoin.append(result.find(\"td\").find_next_sibling(\"td\").get_text(strip=True).split('=')[1])\n",
    "  \n",
    "    \n",
    "    except:\n",
    "         Price_Bitcoin.append('n/a')\n"
   ]
  },
  {
   "cell_type": "code",
   "execution_count": 12,
   "id": "dd7bca8e",
   "metadata": {},
   "outputs": [],
   "source": [
    "USFakeIDfromOnion = pd.DataFrame({'Location Name':Location_Name,'Price in USD':Price_USD,'Price in Bitcoin':Price_Bitcoin})"
   ]
  },
  {
   "cell_type": "code",
   "execution_count": 13,
   "id": "e2b89414",
   "metadata": {},
   "outputs": [
    {
     "data": {
      "text/html": [
       "<div>\n",
       "<style scoped>\n",
       "    .dataframe tbody tr th:only-of-type {\n",
       "        vertical-align: middle;\n",
       "    }\n",
       "\n",
       "    .dataframe tbody tr th {\n",
       "        vertical-align: top;\n",
       "    }\n",
       "\n",
       "    .dataframe thead th {\n",
       "        text-align: right;\n",
       "    }\n",
       "</style>\n",
       "<table border=\"1\" class=\"dataframe\">\n",
       "  <thead>\n",
       "    <tr style=\"text-align: right;\">\n",
       "      <th></th>\n",
       "      <th>Location Name</th>\n",
       "      <th>Price in USD</th>\n",
       "      <th>Price in Bitcoin</th>\n",
       "    </tr>\n",
       "  </thead>\n",
       "  <tbody>\n",
       "    <tr>\n",
       "      <th>0</th>\n",
       "      <td>n/a</td>\n",
       "      <td>n/a</td>\n",
       "      <td>n/a</td>\n",
       "    </tr>\n",
       "    <tr>\n",
       "      <th>1</th>\n",
       "      <td>Delaware</td>\n",
       "      <td>200 USD</td>\n",
       "      <td>0.00865 ฿</td>\n",
       "    </tr>\n",
       "    <tr>\n",
       "      <th>2</th>\n",
       "      <td>\\tIllinois</td>\n",
       "      <td>200 USD</td>\n",
       "      <td>0.00865 ฿</td>\n",
       "    </tr>\n",
       "    <tr>\n",
       "      <th>3</th>\n",
       "      <td>South Carolina</td>\n",
       "      <td>200 USD</td>\n",
       "      <td>0.00865 ฿</td>\n",
       "    </tr>\n",
       "    <tr>\n",
       "      <th>4</th>\n",
       "      <td>New Jersey</td>\n",
       "      <td>200 USD</td>\n",
       "      <td>0.00865 ฿</td>\n",
       "    </tr>\n",
       "    <tr>\n",
       "      <th>5</th>\n",
       "      <td>Colorado</td>\n",
       "      <td>200 USD</td>\n",
       "      <td>0.00865 ฿</td>\n",
       "    </tr>\n",
       "    <tr>\n",
       "      <th>6</th>\n",
       "      <td>\\tPennsylvania</td>\n",
       "      <td>200 USD</td>\n",
       "      <td>0.00865 ฿</td>\n",
       "    </tr>\n",
       "    <tr>\n",
       "      <th>7</th>\n",
       "      <td>Montana</td>\n",
       "      <td>200 USD</td>\n",
       "      <td>0.00865 ฿</td>\n",
       "    </tr>\n",
       "    <tr>\n",
       "      <th>8</th>\n",
       "      <td>Indiana</td>\n",
       "      <td>200 USD</td>\n",
       "      <td>0.00865 ฿</td>\n",
       "    </tr>\n",
       "    <tr>\n",
       "      <th>9</th>\n",
       "      <td>Wisconsin</td>\n",
       "      <td>200 USD</td>\n",
       "      <td>0.00865 ฿</td>\n",
       "    </tr>\n",
       "    <tr>\n",
       "      <th>10</th>\n",
       "      <td>Alaska</td>\n",
       "      <td>200 USD</td>\n",
       "      <td>0.00865 ฿</td>\n",
       "    </tr>\n",
       "    <tr>\n",
       "      <th>11</th>\n",
       "      <td>Tennessee</td>\n",
       "      <td>200 USD</td>\n",
       "      <td>0.00865 ฿</td>\n",
       "    </tr>\n",
       "    <tr>\n",
       "      <th>12</th>\n",
       "      <td>Arizona</td>\n",
       "      <td>200 USD</td>\n",
       "      <td>0.00865 ฿</td>\n",
       "    </tr>\n",
       "    <tr>\n",
       "      <th>13</th>\n",
       "      <td>New York</td>\n",
       "      <td>200 USD</td>\n",
       "      <td>0.00865 ฿</td>\n",
       "    </tr>\n",
       "    <tr>\n",
       "      <th>14</th>\n",
       "      <td>Texas</td>\n",
       "      <td>200 USD</td>\n",
       "      <td>0.00865 ฿</td>\n",
       "    </tr>\n",
       "    <tr>\n",
       "      <th>15</th>\n",
       "      <td>Florida</td>\n",
       "      <td>200 USD</td>\n",
       "      <td>0.00865 ฿</td>\n",
       "    </tr>\n",
       "    <tr>\n",
       "      <th>16</th>\n",
       "      <td>California</td>\n",
       "      <td>200 USD</td>\n",
       "      <td>0.00865 ฿</td>\n",
       "    </tr>\n",
       "  </tbody>\n",
       "</table>\n",
       "</div>"
      ],
      "text/plain": [
       "      Location Name Price in USD Price in Bitcoin\n",
       "0               n/a          n/a              n/a\n",
       "1          Delaware     200 USD         0.00865 ฿\n",
       "2        \\tIllinois     200 USD         0.00865 ฿\n",
       "3    South Carolina     200 USD         0.00865 ฿\n",
       "4        New Jersey     200 USD         0.00865 ฿\n",
       "5          Colorado     200 USD         0.00865 ฿\n",
       "6    \\tPennsylvania     200 USD         0.00865 ฿\n",
       "7           Montana     200 USD         0.00865 ฿\n",
       "8           Indiana     200 USD         0.00865 ฿\n",
       "9         Wisconsin     200 USD         0.00865 ฿\n",
       "10           Alaska     200 USD         0.00865 ฿\n",
       "11        Tennessee     200 USD         0.00865 ฿\n",
       "12          Arizona     200 USD         0.00865 ฿\n",
       "13         New York     200 USD         0.00865 ฿\n",
       "14            Texas     200 USD         0.00865 ฿\n",
       "15          Florida     200 USD         0.00865 ฿\n",
       "16       California     200 USD         0.00865 ฿"
      ]
     },
     "execution_count": 13,
     "metadata": {},
     "output_type": "execute_result"
    }
   ],
   "source": [
    "USFakeIDfromOnion"
   ]
  },
  {
   "cell_type": "code",
   "execution_count": null,
   "id": "6ecf503d",
   "metadata": {},
   "outputs": [],
   "source": []
  }
 ],
 "metadata": {
  "kernelspec": {
   "display_name": "Python 3 (ipykernel)",
   "language": "python",
   "name": "python3"
  },
  "language_info": {
   "codemirror_mode": {
    "name": "ipython",
    "version": 3
   },
   "file_extension": ".py",
   "mimetype": "text/x-python",
   "name": "python",
   "nbconvert_exporter": "python",
   "pygments_lexer": "ipython3",
   "version": "3.9.13"
  }
 },
 "nbformat": 4,
 "nbformat_minor": 5
}
